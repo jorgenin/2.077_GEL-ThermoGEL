{
 "cells": [
  {
   "cell_type": "markdown",
   "metadata": {},
   "source": [
    "# Code for Gels\n",
    "\n",
    "Axisymmetric swelling of a  cylinder\n",
    "\n",
    "Degrees of freedom:\n",
    "#\n",
    "Displacement: u \\\n",
    "pressure: p \\\n",
    "chemical potential: mu \\\n",
    "concentration: c \n",
    "\n",
    "Units:\n",
    "#\n",
    "Length: mm \\\n",
    "Mass: kg \\\n",
    "Time: s \\\n",
    "Mass density: kg/mm^3 \\\n",
    "Force: milliN \\\n",
    "Stress: kPa \\\n",
    "Energy: microJ \\\n",
    "Temperature: K \\\n",
    "Amount of substance: mol \\\n",
    "Species concentration: mol/mm^3 \\\n",
    "Chemical potential: milliJ/mol \\\n",
    "Molar volume: mm^3/mol \\\n",
    "Species diffusivity: mm^2/s \\\n",
    "Gas constant: microJ/(mol K) \n",
    "\n",
    "Eric Stewart and Lallit Anand   \n",
    "ericstew@mit.edu and anand@mit.edu   \n",
    "\n",
    "\n",
    "\n",
    "Converted to FEniCSx by Jorge Nin\n",
    "jorgenin@mit.edu\n",
    "October 2023\n",
    "\n"
   ]
  },
  {
   "cell_type": "code",
   "execution_count": 1,
   "metadata": {},
   "outputs": [],
   "source": [
    "import numpy as np\n",
    "import dolfinx\n",
    "\n",
    "from mpi4py import MPI\n",
    "from petsc4py import PETSc\n",
    "\n",
    "from dolfinx import fem, mesh, io, plot, log\n",
    "from dolfinx.fem import (Constant, dirichletbc, Function, FunctionSpace, Expression )\n",
    "from dolfinx.fem.petsc import NonlinearProblem\n",
    "from dolfinx.nls.petsc import NewtonSolver\n",
    "from dolfinx.io import XDMFFile\n",
    "import ufl\n",
    "from ufl import (TestFunctions, TrialFunction, Identity, grad, det, div, dev, inv, tr, sqrt, conditional , gt, dx, inner, derivative, dot, ln, split)\n",
    "from datetime import datetime\n",
    "from dolfinx.plot import vtk_mesh\n",
    "\n",
    "import pyvista\n",
    "pyvista.set_jupyter_backend('client')\n",
    "## Define temporal parameters"
   ]
  },
  {
   "cell_type": "markdown",
   "metadata": {},
   "source": [
    "### Set level of detail for log messages (integer)\n",
    "Guide: \\\n",
    "CRITICAL  = 50  errors that may lead to data corruption \\\n",
    "ERROR     = 40  things that HAVE gone wrong \\\n",
    "WARNING   = 30  things that MAY go wrong later \\\n",
    "INFO      = 20  information of general interest (includes solver info) \\\n",
    "PROGRESS  = 16  what's happening (broadly) \\\n",
    "TRACE     = 13  what's happening (in detail) \\\n",
    "DBG       = 10  sundry \n"
   ]
  },
  {
   "cell_type": "code",
   "execution_count": 2,
   "metadata": {},
   "outputs": [],
   "source": [
    "log.set_log_level(log.LogLevel.WARNING)"
   ]
  },
  {
   "cell_type": "markdown",
   "metadata": {},
   "source": [
    "# Define Geometry"
   ]
  },
  {
   "cell_type": "code",
   "execution_count": 3,
   "metadata": {},
   "outputs": [],
   "source": [
    "problemName = \"THERMO_GEL6_axi_swell\"\n",
    "# Create mesh \n",
    "r_in   = 3 # inner packer radius\n",
    "r_out  = 9 # outer packer radius\n",
    "r_wall = 11 # outer rigid wall radius\n",
    "L0     = 6 # axial length of packer\n",
    "domain = mesh.create_rectangle(MPI.COMM_WORLD,[[r_in,0.0],[r_out,L0]],[10,10])"
   ]
  },
  {
   "cell_type": "markdown",
   "metadata": {},
   "source": [
    "### Visualize Gemometry"
   ]
  },
  {
   "cell_type": "code",
   "execution_count": 4,
   "metadata": {},
   "outputs": [
    {
     "data": {
      "application/vnd.jupyter.widget-view+json": {
       "model_id": "0ffc06b210a54f7ca93680c362476a01",
       "version_major": 2,
       "version_minor": 0
      },
      "text/plain": [
       "Widget(value=\"<iframe src='http://localhost:61388/index.html?ui=P_0x29e0c47d0_0&reconnect=auto' style='width: …"
      ]
     },
     "metadata": {},
     "output_type": "display_data"
    }
   ],
   "source": [
    "plotter = pyvista.Plotter()\n",
    "vtkdata = vtk_mesh(domain, domain.topology.dim)\n",
    "grid = pyvista.UnstructuredGrid(*vtkdata)\n",
    "actor = plotter.add_mesh(grid, show_edges=True)\n",
    "plotter.show()\n",
    "plotter.close()"
   ]
  },
  {
   "cell_type": "markdown",
   "metadata": {},
   "source": [
    "## Functions for finding Differnent Areas"
   ]
  },
  {
   "cell_type": "code",
   "execution_count": 5,
   "metadata": {},
   "outputs": [],
   "source": [
    "def Left(x):\n",
    "    return np.isclose(x[0], r_in)\n",
    "def Right(x):\n",
    "    return np.isclose(x[0], r_out)\n",
    "def Bottom(x):\n",
    "    return np.isclose(x[1], 0)\n",
    "def Top(x):\n",
    "    return np.isclose(x[1], L0)\n",
    "\n",
    "def Ground(x):\n",
    "        return np.logical_and(np.isclose(x[0],r_in) , np.isclose(x[1], 0))"
   ]
  },
  {
   "cell_type": "code",
   "execution_count": 6,
   "metadata": {},
   "outputs": [],
   "source": [
    "boundaries = [(1, Left),(2,Bottom),(3,Right),(4,Top)]\n",
    "\n",
    "facet_indices, facet_markers = [], []\n",
    "fdim = domain.topology.dim-1\n",
    "for (marker, locator) in boundaries:\n",
    "    facets = mesh.locate_entities(domain, fdim, locator)\n",
    "    facet_indices.append(facets)\n",
    "    facet_markers.append(np.full_like(facets, marker))\n",
    "\n",
    "facet_indices = np.hstack(facet_indices).astype(np.int32)\n",
    "facet_markers = np.hstack(facet_markers).astype(np.int32)\n",
    "sorted_facets = np.argsort(facet_indices)\n",
    "\n",
    "facet_tag = mesh.meshtags(domain, fdim, facet_indices[sorted_facets], facet_markers[sorted_facets])\n",
    "\n",
    "ds = ufl.Measure('ds', domain=domain, subdomain_data=facet_tag,metadata={'quadrature_degree': 4})\n",
    "n = ufl.FacetNormal(domain)"
   ]
  },
  {
   "cell_type": "markdown",
   "metadata": {},
   "source": [
    "## SubRoutine"
   ]
  },
  {
   "cell_type": "code",
   "execution_count": 7,
   "metadata": {},
   "outputs": [],
   "source": [
    "t          = 0.0        # initialization of time\n",
    "ttd        = 300      # time constant for increasing mu\n",
    "step1_time = 3600*2    \n",
    "# \n",
    "tRamp      = 3600*2     # ramp time for increasing / decreasing temperature\n",
    "#\n",
    "step2_time = 3600*3     # ramp time+ hold time for increasing temp.\n",
    "#\n",
    "step3_time = 3600*3     # ramp time+ hold time for decreasing temp.\n",
    "#\n",
    "Ttot       = step1_time + step2_time + step3_time \n",
    "dt         = 50      "
   ]
  },
  {
   "cell_type": "code",
   "execution_count": 8,
   "metadata": {},
   "outputs": [],
   "source": [
    "from subroutines import *\n",
    "FenicxProblem = THERMO_GEL_Axial_Symmetric(domain)\n",
    "FenicxProblem.Kinematics()\n",
    "FenicxProblem.WeakForms(dt)"
   ]
  },
  {
   "cell_type": "markdown",
   "metadata": {},
   "source": [
    "## Simulation Control"
   ]
  },
  {
   "cell_type": "code",
   "execution_count": 9,
   "metadata": {},
   "outputs": [],
   "source": [
    "def muAmp(t):\n",
    "    return float(FenicxProblem.mu0)*np.exp(-t/ttd)\n"
   ]
  },
  {
   "cell_type": "markdown",
   "metadata": {},
   "source": [
    "# Boundary Conditions"
   ]
  },
  {
   "cell_type": "code",
   "execution_count": 10,
   "metadata": {},
   "outputs": [],
   "source": [
    "Time_cons = Constant(domain,PETSc.ScalarType(muAmp(t)))\n",
    "\n",
    "V0, submap = FenicxProblem.ME.sub(0).collapse()\n",
    "fixed_displacement = fem.Function(V0)\n",
    "fixed_displacement.interpolate(lambda x: np.stack((np.zeros(x.shape[1]), np.zeros(x.shape[1]))))\n",
    "\n",
    "dofs_1 = fem.locate_dofs_topological(FenicxProblem.ME.sub(0).sub(0), facet_tag.dim, facet_tag.find(1))\n",
    "dofs_2 = fem.locate_dofs_geometrical((FenicxProblem.ME.sub(0),V0), Ground)\n",
    "\n",
    "dofs_3 = fem.locate_dofs_topological(FenicxProblem.ME.sub(2), facet_tag.dim, facet_tag.find(2))\n",
    "dofs_4 = fem.locate_dofs_topological(FenicxProblem.ME.sub(2), facet_tag.dim, facet_tag.find(3))\n",
    "dofs_5 = fem.locate_dofs_topological(FenicxProblem.ME.sub(2), facet_tag.dim, facet_tag.find(4))\n",
    "\n",
    "dofs_6 = fem.locate_dofs_topological(FenicxProblem.ME.sub(4), facet_tag.dim, facet_tag.find(2))\n",
    "dofs_7 = fem.locate_dofs_topological(FenicxProblem.ME.sub(4), facet_tag.dim, facet_tag.find(3))\n",
    "dofs_8 = fem.locate_dofs_topological(FenicxProblem.ME.sub(4), facet_tag.dim, facet_tag.find(4))\n",
    "\n",
    "\n",
    "bcs_1 = dirichletbc(0.0, dofs_1,FenicxProblem.ME.sub(0).sub(0))  # u1 fix - xBot\n",
    "bcs_2 = dirichletbc(fixed_displacement, dofs_2, FenicxProblem.ME.sub(0))  # u2 fix - yBot\n",
    "\n",
    "bcs_3 = dirichletbc(Time_cons,dofs_3 ,FenicxProblem.ME.sub(2))  # u3 fix - zBot\n",
    "bcs_4 = dirichletbc(Time_cons,dofs_4 ,FenicxProblem.ME.sub(2))  # u3 fix - zBot\n",
    "bcs_5 = dirichletbc(Time_cons,dofs_5 ,FenicxProblem.ME.sub(2))  # u3 fix - zBot\n",
    "#\n",
    "\n",
    "bcs_6 = dirichletbc(FenicxProblem.theta0,dofs_3 ,FenicxProblem.ME.sub(2))  # u3 fix - zBot\n",
    "bcs_7 = dirichletbc(FenicxProblem.theta0,dofs_4 ,FenicxProblem.ME.sub(2))  # u3 fix - zBot\n",
    "bcs_8 = dirichletbc(FenicxProblem.theta0,dofs_5 ,FenicxProblem.ME.sub(2))  # u3 fix - zBot\n",
    "bcs = [bcs_1, bcs_2, bcs_3, bcs_4,bcs_5,bcs_6,bcs_7,bcs_8]"
   ]
  },
  {
   "cell_type": "markdown",
   "metadata": {},
   "source": [
    "# Non Linear Variational"
   ]
  },
  {
   "cell_type": "code",
   "execution_count": 11,
   "metadata": {},
   "outputs": [],
   "source": [
    "#Setting up visualziation\n",
    "import pyvista\n",
    "import matplotlib\n",
    "import cmasher as cmr\n",
    "import os\n",
    "\n",
    "if not os.path.exists(\"results\"):\n",
    "\n",
    "   # Create a new directory because it does not exist\n",
    "   os.makedirs(\"results\")\n",
    "\n",
    "\n",
    "pyvista.set_jupyter_backend('client')\n",
    "plotter = pyvista.Plotter()\n",
    "plotter.open_gif(\"results/\"+problemName+\".gif\")\n",
    "\n",
    "\n",
    "V = fem.FunctionSpace(domain,FenicxProblem.U2) ## Difference \n",
    "u_n = fem.Function(V)\n",
    "u_ex = Expression(FenicxProblem.w.sub(0),V.element.interpolation_points())\n",
    "u_n.interpolate(u_ex)\n",
    "\n",
    "\n",
    "topology, cells, geometry = plot.vtk_mesh(u_n.function_space)\n",
    "function_grid = pyvista.UnstructuredGrid(topology, cells, geometry)\n",
    "values = np.zeros((geometry.shape[0], 3))\n",
    "#u0 = w.sub(0).collapse()\n",
    "values[:, :len(u_n)] = u_n.x.array.reshape(geometry.shape[0], len(u_n))\n",
    "\n",
    "function_grid[\"u\"] = values\n",
    "function_grid.set_active_vectors(\"u\")\n",
    "\n",
    "\n",
    "# Warp mesh by deformation\n",
    "warped = function_grid.warp_by_vector(\"u\", factor=0)\n",
    "warped.set_active_vectors(\"u\")\n",
    "\n",
    "\n",
    "cmap = cmr.get_sub_cmap(matplotlib.colormaps.get_cmap(\"jet\"), 0.1, 0.9,N=50)\n",
    "# Add mesh to plotter and visualize\n",
    "actor = plotter.add_mesh(warped, show_edges=True, lighting=False, clim=[0, 1],cmap=cmap)\n",
    "\n",
    "# Compute magnitude of displacement to visualize in GIF \n",
    "Vs = fem.FunctionSpace(domain, (\"Lagrange\", 2))\n",
    "magnitude = fem.Function(Vs)\n",
    "us = fem.Expression(FenicxProblem.w.sub(3), Vs.element.interpolation_points())\n",
    "magnitude.interpolate(us)\n",
    "warped[\"mag\"] = magnitude.x.array\n",
    "\n",
    "plotter.view_xy()\n",
    "\n",
    "plotter.write_frame()\n",
    "#plotter.camera.zoom(-30)\n"
   ]
  },
  {
   "cell_type": "code",
   "execution_count": 12,
   "metadata": {},
   "outputs": [],
   "source": [
    "## Functions for visualization\n",
    "\n",
    "\n",
    "U1 = ufl.VectorElement(\"Lagrange\", domain.ufl_cell(), 1)\n",
    "V2 = fem.FunctionSpace(domain, U1)#Vector function space\n",
    "V1 = fem.FunctionSpace(domain, FenicxProblem.P1)#Scalar function space\n",
    "\n",
    "u_r = Function(V2)\n",
    "u_r.name = \"disp\"\n",
    "\n",
    "p_r = Function(V1)\n",
    "p_r.name = \"p\"\n",
    "\n",
    "J_vis = Function(V1)\n",
    "J_vis.name = \"J\"\n",
    "J_expr = Expression(FenicxProblem.J,V1.element.interpolation_points())\n",
    "\n",
    "lambdaBar_Vis = Function(V1)\n",
    "lambdaBar_Vis.name = \"lambdaBar\"\n",
    "lambdaBar_expr = Expression(FenicxProblem.lambdaBar_calc(FenicxProblem.u),V1.element.interpolation_points())\n",
    "\n",
    "mu_vis = Function(V1)\n",
    "mu_vis.name = \"mu\"\n",
    "mu_expr = Expression(FenicxProblem.mu,V1.element.interpolation_points())\n",
    "\n",
    "c_vis = Function(V1)\n",
    "c_vis.name = \"c\"\n",
    "c_expr = Expression(FenicxProblem.c,V1.element.interpolation_points())\n",
    "\n",
    "phi_vis = Function(V1)\n",
    "phi_vis.name = \"phi\"\n",
    "phi_expr = Expression(1/(1+FenicxProblem.c),V1.element.interpolation_points())\n",
    "\n",
    "Je_vis = Function(V1)\n",
    "Je_vis.name = \"Je\"\n",
    "Je_expr = Expression(FenicxProblem.Je,V1.element.interpolation_points())\n",
    "Theta_vis = Function(V1)\n",
    "Theta_vis.name = \"theta\"\n",
    "Theta_exp = Expression(FenicxProblem.theta,V1.element.interpolation_points())\n",
    "\n",
    "\n",
    "P11 = Function(V1)\n",
    "P11.name = \"P11\"\n",
    "P11_expr = Expression(FenicxProblem.Tmat[0,0],V1.element.interpolation_points())\n",
    "P22 = Function(V1)\n",
    "P22.name = \"P22\"\n",
    "P22_expr = Expression(FenicxProblem.Tmat[1,1],V1.element.interpolation_points())\n",
    "P33 = Function(V1)\n",
    "P33.name = \"P33\"\n",
    "P33_expr = Expression(FenicxProblem.Tmat[2,2],V1.element.interpolation_points())\n",
    "\n",
    "T   = FenicxProblem.Tmat*FenicxProblem.F.T/FenicxProblem.J\n",
    "T0   = T - (1/3)*tr(T)*Identity(3)\n",
    "Mises = sqrt((3/2)*inner(T0, T0))\n",
    "Mises_Vis= Function(V1,name=\"Mises\")\n",
    "Mises_expr = Expression(Mises,V1.element.interpolation_points())\n",
    "\n",
    "def InterpAndSave(t,file):\n",
    "    u_r.interpolate(FenicxProblem.w.sub(0))\n",
    "    p_r.interpolate(FenicxProblem.w.sub(1))\n",
    "    #theta_r.interpolate(FenicxProblem.w.sub(2))\n",
    "    mu_vis.interpolate(mu_expr)\n",
    "    c_vis.interpolate(c_expr)\n",
    "    phi_vis.interpolate(phi_expr)\n",
    "    Theta_vis.interpolate(Theta_exp)\n",
    "    J_vis.interpolate(J_expr)\n",
    "    Je_vis.interpolate(Je_expr)\n",
    "    P11.interpolate(P11_expr)\n",
    "    P22.interpolate(P22_expr)\n",
    "    P33.interpolate(P33_expr)\n",
    "    lambdaBar_Vis.interpolate(lambdaBar_expr)\n",
    "    Mises_Vis.interpolate(Mises_expr)\n",
    "    \n",
    "\n",
    "    file.write_function(u_r,t)\n",
    "    file.write_function(p_r,t)\n",
    "    file.write_function(mu_vis,t)\n",
    "    file.write_function(c_vis,t)\n",
    "    file.write_function(phi_vis,t)\n",
    "    file.write_function(Theta_vis,t)\n",
    "\n",
    "    file.write_function(Je_vis,t)\n",
    "    file.write_function(lambdaBar_Vis,t)\n",
    "    file.write_function(J_vis,t)\n",
    "\n",
    "    file.write_function(P11,t)\n",
    "    file.write_function(P22,t)\n",
    "    file.write_function(P33,t)\n",
    "    file.write_function(Mises_Vis,t)\n",
    "    \n"
   ]
  },
  {
   "cell_type": "code",
   "execution_count": 13,
   "metadata": {},
   "outputs": [
    {
     "name": "stdout",
     "output_type": "stream",
     "text": [
      "------------------------------------\n",
      "Simulation Start\n",
      "------------------------------------\n",
      "Ended Early\n",
      "-----------------------------------------\n",
      "End computation\n",
      "------------------------------------------\n",
      "Elapsed real time:  0:00:00.200616\n",
      "------------------------------------------\n"
     ]
    }
   ],
   "source": [
    "\n",
    "startTime = datetime.now()\n",
    "step = \"Swell\"\n",
    "jit_options ={\"cffi_extra_compile_args\":[\"-O3\",\"-ffast-math\"]}\n",
    "\n",
    "\n",
    "\n",
    "problem = NonlinearProblem(FenicxProblem.Res, FenicxProblem.w, bcs, FenicxProblem.a)\n",
    "\n",
    "\n",
    "solver = NewtonSolver(MPI.COMM_WORLD, problem)\n",
    "solver.convergence_criterion = \"incremental\"\n",
    "solver.rtol = 1e-8\n",
    "solver.atol = 1e-8\n",
    "solver.max_it = 50\n",
    "solver.report = True\n",
    "\n",
    "ksp = solver.krylov_solver\n",
    "opts = PETSc.Options()\n",
    "option_prefix = ksp.getOptionsPrefix()\n",
    "#opts[f\"{option_prefix}ksp_type\"] = \"preonly\"\n",
    "#opts[f\"{option_prefix}pc_type\"] = \"lu\"\n",
    "#opts[f\"{option_prefix}pc_hypre_type\"] = \"boomeramg\"\n",
    "#opts[f\"{option_prefix}pc_factor_mat_solver_type\"] = \"mumps\"\n",
    "opts[f\"{option_prefix}ksp_max_it\"] = 30\n",
    "ksp.setFromOptions()\n",
    "\n",
    "\n",
    "ii   = 0 # counter \n",
    "\n",
    "if os.path.exists(\"results/\"+problemName+\".xdmf\"):\n",
    "    os.remove(\"results/\"+problemName+\".xdmf\")\n",
    "    os.remove(\"results/\"+problemName+\".h5\")\n",
    "xdmf = XDMFFile(domain.comm,\"results/\"+problemName+\".xdmf\", \"w\")\n",
    "xdmf.write_mesh(domain)\n",
    "\n",
    "\n",
    "\n",
    "InterpAndSave(t,xdmf)\n",
    "\n",
    "\n",
    "print(\"------------------------------------\")\n",
    "print(\"Simulation Start\")\n",
    "print(\"------------------------------------\")\n",
    "# Store start time \n",
    "startTime = datetime.now()\n",
    "#log.set_log_level(log.LogLevel.INFO)\n",
    "while (t < step1_time):\n",
    "     \n",
    "    # increment time\n",
    "    t += dt \n",
    "    # increment counter\n",
    "    \n",
    "    \n",
    "    # update time variables in time-dependent BCs \n",
    "    Time_cons.value = muAmp(t)\n",
    "    \n",
    "    # Solve the problem\n",
    "    try:\n",
    "        (iter, converged) = solver.solve(FenicxProblem.w)\n",
    "    except: # Break the loop if solver fails\n",
    "        print( \"Ended Early\")\n",
    "        break\n",
    "\n",
    "    FenicxProblem.w.x.scatter_forward()\n",
    "    # Write output to *.xdmf file\n",
    "    #writeResults(t)\n",
    "    #print(u0.x.array-w.x.array[dofs])\n",
    "\n",
    "    #Visualizing GIF\n",
    "    u_n.interpolate(u_ex)\n",
    "    function_grid[\"u\"][:, :len(u_n)] = u_n.x.array.reshape(geometry.shape[0], len(u_n))\n",
    "   \n",
    "    magnitude.interpolate(us)\n",
    "    warped.set_active_scalars(\"mag\")\n",
    "    warped_n = function_grid.warp_by_vector(factor=1)\n",
    "    plotter.update_coordinates(warped_n.points.copy(), render=False)\n",
    "    plotter.update_scalars(magnitude.x.array,render = False)\n",
    "    \n",
    "    plotter.write_frame()\n",
    "\n",
    "    # Update DOFs for next step\n",
    "    FenicxProblem.w_old.x.array[:] = FenicxProblem.w.x.array\n",
    "\n",
    "\n",
    "    #SAVING RESULT\n",
    "    InterpAndSave(t,xdmf)\n",
    "    # Print progress of calculation\n",
    "    if ii%1 == 0:      \n",
    "        now = datetime.now()\n",
    "        current_time = now.strftime(\"%H:%M:%S\")\n",
    "        print(\"Step: {} | Simulation Time: {} s, Wallclock Time: {}\".\\\n",
    "              format(step, round(t,4), current_time))\n",
    "        print(\"Iterations: {}\".format(iter))\n",
    "        print()  \n",
    "             \n",
    "plotter.close()\n",
    "print(\"-----------------------------------------\")\n",
    "print(\"End computation\")                 \n",
    "# Report elapsed real time for the analysis\n",
    "endTime = datetime.now()\n",
    "elapseTime = endTime - startTime\n",
    "print(\"------------------------------------------\")\n",
    "print(\"Elapsed real time:  {}\".format(elapseTime))\n",
    "print(\"------------------------------------------\")\n",
    "xdmf.close()"
   ]
  },
  {
   "cell_type": "code",
   "execution_count": 18,
   "metadata": {},
   "outputs": [
    {
     "data": {
      "text/plain": [
       "array([298., 298., 298., 298., 298., 298., 298., 298., 298., 298., 298.,\n",
       "       298., 298., 298., 298., 298., 298., 298., 298., 298., 298., 298.,\n",
       "       298., 298., 298., 298., 298., 298., 298., 298., 298., 298., 298.,\n",
       "       298., 298., 298., 298., 298., 298., 298., 298., 298., 298., 298.,\n",
       "       298., 298., 298., 298., 298., 298., 298., 298., 298., 298., 298.,\n",
       "       298., 298., 298., 298., 298., 298., 298., 298., 298., 298., 298.,\n",
       "       298., 298., 298., 298., 298., 298., 298., 298., 298., 298., 298.,\n",
       "       298., 298., 298., 298., 298., 298., 298., 298., 298., 298., 298.,\n",
       "       298., 298., 298., 298., 298., 298., 298., 298., 298., 298., 298.,\n",
       "       298., 298., 298., 298., 298., 298., 298., 298., 298., 298., 298.,\n",
       "       298., 298., 298., 298., 298., 298., 298., 298., 298., 298., 298.])"
      ]
     },
     "execution_count": 18,
     "metadata": {},
     "output_type": "execute_result"
    }
   ],
   "source": [
    "V = FunctionSpace(domain,(\"CG\",2))\n",
    "FenicxProblem.lambdaBar"
   ]
  },
  {
   "cell_type": "code",
   "execution_count": 14,
   "metadata": {},
   "outputs": [],
   "source": [
    "#[[0.9668117567818925,0,0],[1.5265566588595902e-16,1.07,0]]"
   ]
  },
  {
   "cell_type": "code",
   "execution_count": 15,
   "metadata": {},
   "outputs": [
    {
     "data": {
      "image/png": "[encoded data removed]",
      "text/plain": [
       "<IPython.core.display.Image object>"
      ]
     },
     "metadata": {},
     "output_type": "display_data"
    }
   ],
   "source": [
    "from IPython.display import Image\n",
    "display(Image(data=open(\"results/\"+problemName+\".gif\",'rb').read(), format='png'))"
   ]
  },
  {
   "cell_type": "code",
   "execution_count": 16,
   "metadata": {},
   "outputs": [
    {
     "name": "stderr",
     "output_type": "stream",
     "text": [
      "WARNING:py.warnings:/var/folders/2d/bm7xqs8d1fg55jssqgvc9j7c0000gn/T/ipykernel_20933/858321276.py:4: DeprecationWarning: This method is deprecated. Use FunctionSpace with an element shape argument instead\n",
      "  V = fem.VectorFunctionSpace(domain,(\"Lagrange\",2))\n",
      "\n"
     ]
    },
    {
     "data": {
      "application/vnd.jupyter.widget-view+json": {
       "model_id": "ec9c459c8df24f49ac431709af654a50",
       "version_major": 2,
       "version_minor": 0
      },
      "text/plain": [
       "Widget(value=\"<iframe src='http://localhost:57597/index.html?ui=P_0x2a1334a50_0&reconnect=auto' style='width: …"
      ]
     },
     "metadata": {},
     "output_type": "display_data"
    }
   ],
   "source": [
    "pyvista.set_jupyter_backend('client')\n",
    "plotter = pyvista.Plotter()\n",
    "\n",
    "V = fem.VectorFunctionSpace(domain,(\"Lagrange\",2))\n",
    "u_n = fem.Function(V)\n",
    "u_ex = Expression(FenicxProblem.w.sub(0),V.element.interpolation_points())\n",
    "u_n.interpolate(u_ex)\n",
    "\n",
    "topology, cells, geometry = plot.vtk_mesh(V)\n",
    "\n",
    "function_grid = pyvista.UnstructuredGrid(topology, cells, geometry)\n",
    "values = np.zeros((geometry.shape[0], 3))\n",
    "values[:, :len(u_n)] = u_n.x.array.reshape(geometry.shape[0], len(u_n))\n",
    "\n",
    "function_grid[\"u\"] = values\n",
    "function_grid.set_active_vectors(\"u\")\n",
    "\n",
    "warped = function_grid.warp_by_vector(\"u\", factor=1)\n",
    "warped.set_active_vectors(\"u\")\n",
    "\n",
    "# Add mesh to plotter and visualize\n",
    "actor = plotter.add_mesh(warped, show_edges=True, lighting=False, clim=[0, 67.5])\n",
    "\n",
    "# Compute magnitude of displacement to visualize in GIF \n",
    "Vs = FunctionSpace(domain,(\"Lagrange\", 2))\n",
    "magnitude = fem.Function(Vs)\n",
    "us = fem.Expression(u_n[1], Vs.element.interpolation_points())\n",
    "magnitude.interpolate(Mises_Vis)\n",
    "warped[\"mag\"] = magnitude.x.array\n",
    "#print(u_n.function_space.dofmap.list)\n",
    "plotter.update_scalars(magnitude.x.array,render = False)\n",
    "#plotter.camera.position=[5,25,200]\n",
    "#plotter.camera.focal_point=[5,40,0]\n",
    "plotter.render()\n",
    "plotter.show()\n"
   ]
  }
 ],
 "metadata": {
  "kernelspec": {
   "display_name": ".venv",
   "language": "python",
   "name": "python3"
  },
  "language_info": {
   "codemirror_mode": {
    "name": "ipython",
    "version": 3
   },
   "file_extension": ".py",
   "mimetype": "text/x-python",
   "name": "python",
   "nbconvert_exporter": "python",
   "pygments_lexer": "ipython3",
   "version": "3.11.2"
  },
  "orig_nbformat": 4
 },
 "nbformat": 4,
 "nbformat_minor": 2
}
